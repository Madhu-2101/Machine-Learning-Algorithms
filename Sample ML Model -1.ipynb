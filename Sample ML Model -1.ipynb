{
 "cells": [
  {
   "cell_type": "markdown",
   "id": "51632e61",
   "metadata": {},
   "source": [
    "## Importing Scikit-Learn LinearRegression Model"
   ]
  },
  {
   "cell_type": "code",
   "execution_count": 1,
   "id": "909e8a71",
   "metadata": {},
   "outputs": [
    {
     "name": "stderr",
     "output_type": "stream",
     "text": [
      "C:\\Users\\91974\\anaconda3\\lib\\site-packages\\scipy\\__init__.py:146: UserWarning: A NumPy version >=1.16.5 and <1.23.0 is required for this version of SciPy (detected version 1.24.1\n",
      "  warnings.warn(f\"A NumPy version >={np_minversion} and <{np_maxversion}\"\n"
     ]
    }
   ],
   "source": [
    "from sklearn.linear_model import LinearRegression\n",
    "from random import randint\n",
    "train_set_limit = 1000\n",
    "train_set_count = 100\n",
    "train_input = []\n",
    "train_output = []"
   ]
  },
  {
   "cell_type": "markdown",
   "id": "72c3ce07",
   "metadata": {},
   "source": [
    "## Generating data to train the Model"
   ]
  },
  {
   "cell_type": "code",
   "execution_count": 2,
   "id": "6849e782",
   "metadata": {},
   "outputs": [],
   "source": [
    "for i in range(train_set_count):\n",
    "    a = randint(0, train_set_limit)\n",
    "    b = randint(0, train_set_limit)\n",
    "    c = randint(0, train_set_limit)\n",
    "    operation = a + (2*b) + (3*c)\n",
    "    train_input.append([a,b,c])\n",
    "    train_output.append(operation)"
   ]
  },
  {
   "cell_type": "code",
   "execution_count": 3,
   "id": "168fcd63",
   "metadata": {},
   "outputs": [
    {
     "name": "stdout",
     "output_type": "stream",
     "text": [
      "Training input: \n",
      "\n",
      " [[636, 527, 671], [618, 928, 245], [740, 199, 196], [788, 885, 379], [28, 55, 899], [244, 726, 522], [754, 314, 899], [392, 837, 89], [108, 290, 140], [39, 945, 974], [896, 119, 47], [505, 491, 420], [768, 121, 761], [234, 166, 184], [263, 286, 297], [107, 779, 648], [546, 115, 939], [843, 169, 145], [145, 525, 831], [37, 726, 784], [570, 41, 460], [463, 306, 36], [557, 849, 145], [57, 769, 404], [949, 70, 56], [203, 224, 12], [77, 526, 460], [180, 251, 291], [229, 411, 706], [182, 456, 375], [126, 493, 659], [383, 551, 458], [654, 314, 194], [344, 961, 658], [567, 671, 91], [60, 624, 18], [972, 836, 845], [498, 152, 962], [817, 817, 731], [168, 305, 240], [265, 747, 896], [850, 516, 311], [578, 308, 469], [672, 859, 428], [793, 39, 287], [840, 27, 427], [324, 383, 129], [608, 918, 982], [960, 39, 744], [280, 810, 977], [363, 486, 663], [670, 16, 170], [451, 420, 298], [222, 499, 452], [600, 418, 881], [934, 120, 518], [642, 760, 301], [167, 432, 928], [120, 822, 580], [854, 509, 969], [650, 866, 856], [464, 356, 298], [180, 205, 995], [67, 728, 880], [170, 567, 99], [717, 699, 643], [355, 194, 67], [619, 656, 679], [205, 100, 838], [98, 342, 938], [310, 759, 378], [804, 95, 626], [271, 471, 277], [10, 993, 936], [568, 4, 198], [989, 999, 718], [638, 792, 650], [839, 829, 76], [319, 167, 890], [930, 272, 463], [878, 869, 834], [226, 210, 387], [649, 564, 987], [846, 179, 225], [652, 646, 588], [917, 35, 573], [312, 285, 854], [47, 662, 690], [261, 226, 126], [725, 383, 555], [145, 181, 316], [289, 325, 55], [904, 17, 25], [396, 946, 453], [176, 796, 290], [848, 513, 177], [454, 303, 821], [829, 708, 794], [33, 95, 858], [525, 591, 490]]\n",
      "\n",
      "Training output :\n",
      "\n",
      " [3703, 3209, 1726, 3695, 2835, 3262, 4079, 2333, 1108, 4851, 1275, 2747, 3293, 1118, 1726, 3609, 3593, 1616, 3688, 3841, 2032, 1183, 2690, 2807, 1257, 687, 2509, 1555, 3169, 2219, 3089, 2859, 1864, 4240, 2182, 1362, 5179, 3688, 4644, 1498, 4447, 2815, 2601, 3674, 1732, 2175, 1477, 5390, 3270, 4831, 3324, 1212, 2185, 2576, 4079, 2728, 3065, 3815, 3504, 4779, 4950, 2070, 3575, 4163, 1601, 4044, 944, 3968, 2919, 3596, 2962, 2872, 2044, 4804, 1170, 5141, 4172, 2725, 3323, 2863, 5118, 1807, 4738, 1879, 3708, 2706, 3444, 3441, 1091, 3156, 1455, 1104, 1013, 3647, 2638, 2405, 3523, 4627, 2797, 3177]\n"
     ]
    }
   ],
   "source": [
    "print('Training input: \\n\\n',train_input)\n",
    "print('\\nTraining output :\\n\\n',train_output)"
   ]
  },
  {
   "cell_type": "markdown",
   "id": "945e60cf",
   "metadata": {},
   "source": [
    "## Training the Model"
   ]
  },
  {
   "cell_type": "code",
   "execution_count": 4,
   "id": "2c59106f",
   "metadata": {},
   "outputs": [
    {
     "data": {
      "text/plain": [
       "LinearRegression()"
      ]
     },
     "execution_count": 4,
     "metadata": {},
     "output_type": "execute_result"
    }
   ],
   "source": [
    "model = LinearRegression()\n",
    "model.fit(train_input, train_output)"
   ]
  },
  {
   "cell_type": "markdown",
   "id": "6731c88a",
   "metadata": {},
   "source": [
    "## Using the Model"
   ]
  },
  {
   "cell_type": "code",
   "execution_count": 5,
   "id": "6e49b75d",
   "metadata": {},
   "outputs": [],
   "source": [
    "def predict(test_input):\n",
    "    test_output = model.predict(test_input)\n",
    "    print(\"Outcome: {}\\nCoefficients: {}\".format(test_output, test_input))"
   ]
  },
  {
   "cell_type": "code",
   "execution_count": 6,
   "id": "be9bdba6",
   "metadata": {},
   "outputs": [
    {
     "name": "stdout",
     "output_type": "stream",
     "text": [
      "Outcome: [140.]\n",
      "Coefficients: [[10, 20, 30]]\n"
     ]
    }
   ],
   "source": [
    "predict([[10,20,30]])"
   ]
  },
  {
   "cell_type": "code",
   "execution_count": 7,
   "id": "66a2db7c",
   "metadata": {},
   "outputs": [
    {
     "name": "stdout",
     "output_type": "stream",
     "text": [
      "Outcome: [180.]\n",
      "Coefficients: [[50, 20, 30]]\n"
     ]
    }
   ],
   "source": [
    "predict([[50,20,30]])"
   ]
  },
  {
   "cell_type": "code",
   "execution_count": 8,
   "id": "b2e1eee0",
   "metadata": {},
   "outputs": [
    {
     "name": "stdout",
     "output_type": "stream",
     "text": [
      "Outcome: [145.]\n",
      "Coefficients: [[60, 2, 27]]\n"
     ]
    }
   ],
   "source": [
    "predict([[60,2,27]])"
   ]
  }
 ],
 "metadata": {
  "kernelspec": {
   "display_name": "Python 3 (ipykernel)",
   "language": "python",
   "name": "python3"
  },
  "language_info": {
   "codemirror_mode": {
    "name": "ipython",
    "version": 3
   },
   "file_extension": ".py",
   "mimetype": "text/x-python",
   "name": "python",
   "nbconvert_exporter": "python",
   "pygments_lexer": "ipython3",
   "version": "3.9.7"
  }
 },
 "nbformat": 4,
 "nbformat_minor": 5
}
