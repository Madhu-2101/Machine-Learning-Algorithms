{
 "cells": [
  {
   "cell_type": "markdown",
   "id": "322fb447",
   "metadata": {},
   "source": [
    "## Importing LinearRegression from Scikit-Learn"
   ]
  },
  {
   "cell_type": "code",
   "execution_count": 1,
   "id": "408cef3c",
   "metadata": {},
   "outputs": [],
   "source": [
    "from random import randint\n",
    "from sklearn.linear_model import LinearRegression\n",
    "feature_set = []\n",
    "target_set = []\n",
    "number_of_rows = 200\n",
    "random_number_limit = 2000"
   ]
  },
  {
   "cell_type": "markdown",
   "id": "e9622319",
   "metadata": {},
   "source": [
    "## Generating dataset"
   ]
  },
  {
   "cell_type": "code",
   "execution_count": 2,
   "id": "b91c32d2",
   "metadata": {},
   "outputs": [],
   "source": [
    "for i in range(0, number_of_rows):\n",
    "    x = randint(0, random_number_limit)\n",
    "    y = randint(0, random_number_limit)\n",
    "    z = randint(0, random_number_limit)\n",
    "    operation = (10*x) + (2*y) + (3*z)\n",
    "    feature_set.append([x,y,z])\n",
    "    target_set.append(operation)"
   ]
  },
  {
   "cell_type": "markdown",
   "id": "196868bf",
   "metadata": {},
   "source": [
    "## Model Training"
   ]
  },
  {
   "cell_type": "code",
   "execution_count": 10,
   "id": "ce81c9b0",
   "metadata": {},
   "outputs": [],
   "source": [
    "model = LinearRegression()\n",
    "model.fit(feature_set, target_set)\n",
    "def find_result(test_set):\n",
    "    prediction = model.predict(test_set)\n",
    "    print('Prediction: '+str(prediction)+'\\t'+'Coefficient'+str(model.coef_))"
   ]
  },
  {
   "cell_type": "markdown",
   "id": "a5f8c399",
   "metadata": {},
   "source": [
    "## Using the model"
   ]
  },
  {
   "cell_type": "code",
   "execution_count": 11,
   "id": "91ddd4be",
   "metadata": {},
   "outputs": [
    {
     "name": "stdout",
     "output_type": "stream",
     "text": [
      "Prediction: [116.]\tCoefficient[10.  2.  3.]\n"
     ]
    }
   ],
   "source": [
    "find_result([[10,5,2]])"
   ]
  },
  {
   "cell_type": "code",
   "execution_count": 12,
   "id": "1abb2a06",
   "metadata": {},
   "outputs": [
    {
     "name": "stdout",
     "output_type": "stream",
     "text": [
      "Prediction: [26.]\tCoefficient[10.  2.  3.]\n"
     ]
    }
   ],
   "source": [
    "find_result([[1,5,2]])"
   ]
  },
  {
   "cell_type": "code",
   "execution_count": 13,
   "id": "d88c70ec",
   "metadata": {},
   "outputs": [
    {
     "name": "stdout",
     "output_type": "stream",
     "text": [
      "Prediction: [146.]\tCoefficient[10.  2.  3.]\n"
     ]
    }
   ],
   "source": [
    "find_result([[10,20,2]])"
   ]
  },
  {
   "cell_type": "code",
   "execution_count": 14,
   "id": "2d36fc71",
   "metadata": {},
   "outputs": [
    {
     "name": "stdout",
     "output_type": "stream",
     "text": [
      "Prediction: [170.]\tCoefficient[10.  2.  3.]\n"
     ]
    }
   ],
   "source": [
    "find_result([[10,5,20]])"
   ]
  },
  {
   "cell_type": "code",
   "execution_count": 9,
   "id": "1ee8d7f9",
   "metadata": {},
   "outputs": [
    {
     "name": "stdout",
     "output_type": "stream",
     "text": [
      "Prediction: [467.]\tCoefficient[10.  2.  3.]\n"
     ]
    }
   ],
   "source": [
    "find_result([[23,75,29]])"
   ]
  }
 ],
 "metadata": {
  "kernelspec": {
   "display_name": "Python 3 (ipykernel)",
   "language": "python",
   "name": "python3"
  },
  "language_info": {
   "codemirror_mode": {
    "name": "ipython",
    "version": 3
   },
   "file_extension": ".py",
   "mimetype": "text/x-python",
   "name": "python",
   "nbconvert_exporter": "python",
   "pygments_lexer": "ipython3",
   "version": "3.9.7"
  }
 },
 "nbformat": 4,
 "nbformat_minor": 5
}
